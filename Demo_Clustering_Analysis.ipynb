{
 "cells": [
  {
   "cell_type": "markdown",
   "id": "4f920453-85cc-49f3-8f6a-d564c2335251",
   "metadata": {},
   "source": [
    "# Density-Based Clustering with USA Arrest Data Set\n",
    "\n",
    "## 1. Data Collection\n",
    "\n",
    "**Description:**\n",
    "\n",
    "This data set contains statistics, in arrests per 100,000 residents for assault, murder, and rape in each of the 50 US states in 1973. Also given is the percent of the population living in urban areas.\n",
    "\n",
    "The data set has 50 record stand for 50 US states and 4 variables as the following:\n",
    "- **Murder**: Murder arrests (per 100 000) \n",
    "- **Assault**: Assault arrests (per 100 000) \n",
    "- **Rape** : Rape arrests (per 100 000)\n",
    "- **UrbanPop**: Percent urban population\n"
   ]
  },
  {
   "cell_type": "markdown",
   "id": "2b9df977-7b08-4f21-9ac2-47994c5045f9",
   "metadata": {},
   "source": [
    "## 2. Data Presentation"
   ]
  },
  {
   "cell_type": "code",
   "execution_count": 13,
   "id": "7a6f136d-3ada-401a-a9e8-3bb642c30fd0",
   "metadata": {},
   "outputs": [
    {
     "data": {
      "text/html": [
       "<table class=\"dataframe\">\n",
       "<caption>A data.frame: 6 × 4</caption>\n",
       "<thead>\n",
       "\t<tr><th></th><th scope=col>Murder</th><th scope=col>Assault</th><th scope=col>UrbanPop</th><th scope=col>Rape</th></tr>\n",
       "\t<tr><th></th><th scope=col>&lt;dbl&gt;</th><th scope=col>&lt;int&gt;</th><th scope=col>&lt;int&gt;</th><th scope=col>&lt;dbl&gt;</th></tr>\n",
       "</thead>\n",
       "<tbody>\n",
       "\t<tr><th scope=row>Alabama</th><td>13.2</td><td>236</td><td>58</td><td>21.2</td></tr>\n",
       "\t<tr><th scope=row>Alaska</th><td>10.0</td><td>263</td><td>48</td><td>44.5</td></tr>\n",
       "\t<tr><th scope=row>Arizona</th><td> 8.1</td><td>294</td><td>80</td><td>31.0</td></tr>\n",
       "\t<tr><th scope=row>Arkansas</th><td> 8.8</td><td>190</td><td>50</td><td>19.5</td></tr>\n",
       "\t<tr><th scope=row>California</th><td> 9.0</td><td>276</td><td>91</td><td>40.6</td></tr>\n",
       "\t<tr><th scope=row>Colorado</th><td> 7.9</td><td>204</td><td>78</td><td>38.7</td></tr>\n",
       "</tbody>\n",
       "</table>\n"
      ],
      "text/latex": [
       "A data.frame: 6 × 4\n",
       "\\begin{tabular}{r|llll}\n",
       "  & Murder & Assault & UrbanPop & Rape\\\\\n",
       "  & <dbl> & <int> & <int> & <dbl>\\\\\n",
       "\\hline\n",
       "\tAlabama & 13.2 & 236 & 58 & 21.2\\\\\n",
       "\tAlaska & 10.0 & 263 & 48 & 44.5\\\\\n",
       "\tArizona &  8.1 & 294 & 80 & 31.0\\\\\n",
       "\tArkansas &  8.8 & 190 & 50 & 19.5\\\\\n",
       "\tCalifornia &  9.0 & 276 & 91 & 40.6\\\\\n",
       "\tColorado &  7.9 & 204 & 78 & 38.7\\\\\n",
       "\\end{tabular}\n"
      ],
      "text/markdown": [
       "\n",
       "A data.frame: 6 × 4\n",
       "\n",
       "| <!--/--> | Murder &lt;dbl&gt; | Assault &lt;int&gt; | UrbanPop &lt;int&gt; | Rape &lt;dbl&gt; |\n",
       "|---|---|---|---|---|\n",
       "| Alabama | 13.2 | 236 | 58 | 21.2 |\n",
       "| Alaska | 10.0 | 263 | 48 | 44.5 |\n",
       "| Arizona |  8.1 | 294 | 80 | 31.0 |\n",
       "| Arkansas |  8.8 | 190 | 50 | 19.5 |\n",
       "| California |  9.0 | 276 | 91 | 40.6 |\n",
       "| Colorado |  7.9 | 204 | 78 | 38.7 |\n",
       "\n"
      ],
      "text/plain": [
       "           Murder Assault UrbanPop Rape\n",
       "Alabama    13.2   236     58       21.2\n",
       "Alaska     10.0   263     48       44.5\n",
       "Arizona     8.1   294     80       31.0\n",
       "Arkansas    8.8   190     50       19.5\n",
       "California  9.0   276     91       40.6\n",
       "Colorado    7.9   204     78       38.7"
      ]
     },
     "metadata": {},
     "output_type": "display_data"
    },
    {
     "data": {
      "text/plain": [
       "     Murder          Assault         UrbanPop          Rape      \n",
       " Min.   : 0.800   Min.   : 45.0   Min.   :32.00   Min.   : 7.30  \n",
       " 1st Qu.: 4.075   1st Qu.:109.0   1st Qu.:54.50   1st Qu.:15.07  \n",
       " Median : 7.250   Median :159.0   Median :66.00   Median :20.10  \n",
       " Mean   : 7.788   Mean   :170.8   Mean   :65.54   Mean   :21.23  \n",
       " 3rd Qu.:11.250   3rd Qu.:249.0   3rd Qu.:77.75   3rd Qu.:26.18  \n",
       " Max.   :17.400   Max.   :337.0   Max.   :91.00   Max.   :46.00  "
      ]
     },
     "metadata": {},
     "output_type": "display_data"
    }
   ],
   "source": [
    "dat_raw = USArrests\n",
    "head(dat_raw)\n",
    "summary(dat_raw)"
   ]
  },
  {
   "cell_type": "code",
   "execution_count": 14,
   "id": "0048b511-dde4-41a2-848c-58374bf5cba8",
   "metadata": {},
   "outputs": [],
   "source": [
    "#options(repr.plot.width = 6, repr.plot.height = 6, repr.plot.res = 200)\n",
    "#require(graphics)\n",
    "#pairs(dat_raw, panel = panel.smooth, main = \"USArrests data\")\n",
    "\n",
    "#Scale data set\n",
    "dat = scale(dat_raw[-3])"
   ]
  },
  {
   "cell_type": "code",
   "execution_count": 15,
   "id": "d71f37b3-a702-4169-a055-9d93f304a527",
   "metadata": {},
   "outputs": [
    {
     "data": {
      "text/html": [
       "0.685904184734191"
      ],
      "text/latex": [
       "0.685904184734191"
      ],
      "text/markdown": [
       "0.685904184734191"
      ],
      "text/plain": [
       "[1] 0.6859042"
      ]
     },
     "metadata": {},
     "output_type": "display_data"
    },
    {
     "data": {
      "image/png": "iVBORw0KGgoAAAANSUhEUgAABwgAAAOECAIAAAA6zPJhAAAACXBIWXMAAB7CAAAewgFu0HU+\nAAAgAElEQVR4nOzda4zc933v9+/slcs7xRElWRYlSzblXCk3PcdSnBwnUk590pRECzit4iJI\nUEgEn/iBYRVFAhGpIcJBAQnwM6lWUBR1YaVxgBbexkEamDlJk1hxals6TuKI8U2UJYvUULxf\n9t4HezJZryzK9sxnuDP/1wt8MHvh+787l//857u/mWmtrKwUAAAAAECTjF3vHwAAAAAAYNAM\nRgEAAACAxjEYBQAAAAAax2AUAAAAAGgcg1EAAAAAoHEMRgEAAACAxjEYBQAAAAAax2AUAAAA\nAGgcg1EAAAAAoHEMRgEAAACAxjEYBQAAAAAax2AUAAAAAGgcg1EAAAAAoHEMRgEAAACAxpno\
