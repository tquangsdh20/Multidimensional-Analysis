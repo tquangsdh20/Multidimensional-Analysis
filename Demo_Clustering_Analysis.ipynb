{
 "cells": [
  {
   "cell_type": "markdown",
   "id": "4f920453-85cc-49f3-8f6a-d564c2335251",
   "metadata": {},
   "source": [
    "# Density-Based Clustering with USA Arrest Data Set\n",
    "\n",
    "## 1. Data Collection\n",
    "\n",
    "**Description:**\n",
    "\n",
    "This data set contains statistics, in arrests per 100,000 residents for assault, murder, and rape in each of the 50 US states in 1973. Also given is the percent of the population living in urban areas.\n",
    "\n",
    "The data set has 50 record stand for 50 US states and 4 variables as the following:\n",
    "- **Murder**: Murder arrests (per 100 000) \n",
    "- **Assault**: Assault arrests (per 100 000) \n",
    "- **Rape** : Rape arrests (per 100 000)\n",
    "- **UrbanPop**: Percent urban population\n"
   ]
  },
  {
   "cell_type": "markdown",
   "id": "2b9df977-7b08-4f21-9ac2-47994c5045f9",
   "metadata": {},
   "source": [
    "## 2. Data Presentation"
   ]
  },
  {
   "cell_type": "code",
   "execution_count": null,
   "id": "7a6f136d-3ada-401a-a9e8-3bb642c30fd0",
   "metadata": {},
   "outputs": [],
   "source": [
    "dat_raw = USArrests\n",
    "head(dat_raw)"
   ]
  },
  {
   "cell_type": "code",
   "execution_count": null,
   "id": "0048b511-dde4-41a2-848c-58374bf5cba8",
   "metadata": {},
   "outputs": [],
   "source": [
    "summary(dat_raw)\n",
    "options(repr.plot.width = 6, repr.plot.height = 6, repr.plot.res = 200)\n",
    "require(graphics)\n",
    "pairs(dat_raw, panel = panel.smooth, main = \"USArrests data\")"
   ]
  },
  {
   "cell_type": "markdown",
   "id": "d0531213-e221-4ea5-a5b7-66cafa061222",
   "metadata": {},
   "source": [
    "## 3. Analysis and Interpretation\n",
    "\n",
    "### 3.1. Analysis with K-mean Methods"
   ]
  },
  {
   "cell_type": "code",
   "execution_count": null,
   "id": "9ba431f0-032d-4156-8764-73d55386c854",
   "metadata": {},
   "outputs": [],
   "source": [
    "#install.packages(\"factoextra\")\n",
    "#install.packages(\"NbClust\")\n",
    "require(factoextra)\n",
    "require(NbClust)\n",
    "dat = scale(dat_raw)\n",
    "options(repr.plot.width = 6, repr.plot.height = 4, repr.plot.res = 200)\n",
    "fviz_nbclust(dat, kmeans, method = \"wss\") + geom_line()"
   ]
  },
  {
   "cell_type": "markdown",
   "id": "89505793-f376-4057-960a-3b5e657a32ca",
   "metadata": {},
   "source": [
    "#### Chọn k = 4, số cụm ít, sự khác biệt giữa các cá thể trong cụm cũng ít."
   ]
  },
  {
   "cell_type": "code",
   "execution_count": null,
   "id": "a8339b34-0604-4ad0-a939-b6165a331891",
   "metadata": {},
   "outputs": [],
   "source": [
    "km = kmeans(dat,centers = 4)\n",
    "options(repr.plot.width = 7, repr.plot.height = 4.5, repr.plot.res = 200)\n",
    "fviz_cluster(km, dat, ellipse.type = \"norm\")\n",
    "summary(km)"
   ]
  },
  {
   "cell_type": "code",
   "execution_count": null,
   "id": "7f9fc574-dc7d-4b83-a752-e0fdef201e97",
   "metadata": {},
   "outputs": [],
   "source": [
    "#options(repr.plot.width = 6, repr.plot.height = 6, repr.plot.res = 200)\n",
    "#plot(km,dat_raw)"
   ]
  },
  {
   "cell_type": "markdown",
   "id": "0e12a8e8-023a-4f76-8e37-aafc6024526f",
   "metadata": {},
   "source": [
    "### 3.2. Analysis with Density-Based Methods"
   ]
  },
  {
   "cell_type": "code",
   "execution_count": null,
   "id": "99488010-d283-490c-ad21-2ee218f54213",
   "metadata": {},
   "outputs": [],
   "source": [
    "#install.packages(\"fpc\"\n",
    "require(fpc)\n",
    "require(dbscan)\n",
    "#Obtaining optimal Eps value\n",
    "dens_dat = dat_raw[-3]\n",
    "head(dens_dat)\n",
    "options(repr.plot.width = 6, repr.plot.height = 4, repr.plot.res = 200)\n",
    "kNNdistplot(dens_dat, k = 3)\n",
    "abline(h=22,lty=2)"
   ]
  },
  {
   "cell_type": "code",
   "execution_count": null,
   "id": "aa6eac91-1fd9-4bf6-9a0e-c48155257258",
   "metadata": {},
   "outputs": [],
   "source": [
    "#Density-Based Clustering with DBSCAN\n",
    "set.seed(123)\n",
    "res <- fpc::dbscan(dat_raw\n",
    "                   ,eps=25\n",
    "                   ,MinPts=3)\n",
    "res"
   ]
  },
  {
   "cell_type": "code",
   "execution_count": null,
   "id": "202c5cb4-3ae2-4f2c-b12f-de64ec045bab",
   "metadata": {},
   "outputs": [],
   "source": [
    "options(repr.plot.width = 9, repr.plot.height = 4.5, repr.plot.res = 200)\n",
    "res.plot = fviz_cluster(res,dat_raw,geom = \"point\")\n",
    "res.plot"
   ]
  },
  {
   "cell_type": "code",
   "execution_count": null,
   "id": "6a05cc9b-33e7-4b19-be2f-8983c6ca5723",
   "metadata": {},
   "outputs": [],
   "source": [
    "options(repr.plot.width = 6, repr.plot.height = 6, repr.plot.res = 200)\n",
    "plot(res,dat_raw)"
   ]
  }
 ],
 "metadata": {
  "kernelspec": {
   "display_name": "R",
   "language": "R",
   "name": "ir"
  },
  "language_info": {
   "codemirror_mode": "r",
   "file_extension": ".r",
   "mimetype": "text/x-r-source",
   "name": "R",
   "pygments_lexer": "r",
   "version": "4.0.4"
  }
 },
 "nbformat": 4,
 "nbformat_minor": 5
}
