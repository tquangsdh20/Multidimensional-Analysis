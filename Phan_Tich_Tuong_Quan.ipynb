{
 "cells": [
  {
   "cell_type": "markdown",
   "id": "3eb963d9-c082-4d02-8f09-e6ca3345dec6",
   "metadata": {},
   "source": [
    "<p align='center'><h1>Phân tích tương quan</h1></p>\n",
    "\n",
    "### Dữ liệu Music (Định dạng .csv)\n",
    "- Sử dụng lệnh `read.csv()`\n",
    "- Hàng đầu thể hiện tên các biến (header = TRUE)\n",
    "- Cột đầu tiên thể hiện tên các màu sắc riêng biệt (row.names = 1)\n",
    "- Dữ liệu giữa các cột cách nhau bằng **một tab** (sep = '\\t')  \n",
    "\n",
    "<b>Mô tả dữ liệu:</b>\n",
    "22 subjects were presented with 9 “pieces of music” and asked to 1 to 10 colors to each of pieces of music. The pieces of music were: (1) the music of a video game (video), a jazz song (jazz), (3) a country and Western song (country), (4) a rap song (rap), (5) a pop song (pop), (6) an extract of the opera Carmen (opera), (7) the low F note played on a piano (low F), (8) the middle F note played on the same piano, (9) the high F note still played on the same piano. The data were showed on the table where the columns are the pieces of music, the rows are the colors, and the number at the intersection of the row and the column give the number of time the color in the row associated with the piece of music in the column. \n"
   ]
  },
  {
   "cell_type": "code",
   "execution_count": 6,
   "id": "d1144c87-9818-4ae3-ac16-70da0e17bc21",
   "metadata": {},
   "outputs": [
    {
     "data": {
      "text/html": [
       "<table class=\"dataframe\">\n",
       "<caption>A data.frame: 5 × 9</caption>\n",
       "<thead>\n",
       "\t<tr><th></th><th scope=col>Video</th><th scope=col>Jazz</th><th scope=col>Country</th><th scope=col>Rap</th><th scope=col>Pop</th><th scope=col>Opera</th><th scope=col>LowF</th><th scope=col>HighF</th><th scope=col>MidddleF</th></tr>\n",
       "\t<tr><th></th><th scope=col>&lt;int&gt;</th><th scope=col>&lt;int&gt;</th><th scope=col>&lt;int&gt;</th><th scope=col>&lt;int&gt;</th><th scope=col>&lt;int&gt;</th><th scope=col>&lt;int&gt;</th><th scope=col>&lt;int&gt;</th><th scope=col>&lt;int&gt;</th><th scope=col>&lt;int&gt;</th></tr>\n",
       "</thead>\n",
       "<tbody>\n",
       "\t<tr><th scope=row>red</th><td>4</td><td>2</td><td>4</td><td>4</td><td>1</td><td>2</td><td>2</td><td>4</td><td>1</td></tr>\n",
       "\t<tr><th scope=row>orange</th><td>3</td><td>4</td><td>2</td><td>2</td><td>1</td><td>1</td><td>0</td><td>3</td><td>2</td></tr>\n",
       "\t<tr><th scope=row>yellow</th><td>6</td><td>4</td><td>5</td><td>2</td><td>3</td><td>1</td><td>1</td><td>3</td><td>0</td></tr>\n",
       "\t<tr><th scope=row>green</th><td>2</td><td>0</td><td>5</td><td>1</td><td>3</td><td>3</td><td>3</td><td>1</td><td>5</td></tr>\n",
       "\t<tr><th scope=row>blue</th><td>2</td><td>5</td><td>0</td><td>1</td><td>4</td><td>1</td><td>2</td><td>1</td><td>3</td></tr>\n",
       "</tbody>\n",
       "</table>\n"
      ],
      "text/latex": [
       "A data.frame: 5 × 9\n",
       "\\begin{tabular}{r|lllllllll}\n",
       "  & Video & Jazz & Country & Rap & Pop & Opera & LowF & HighF & MidddleF\\\\\n",
       "  & <int> & <int> & <int> & <int> & <int> & <int> & <int> & <int> & <int>\\\\\n",
       "\\hline\n",
       "\tred & 4 & 2 & 4 & 4 & 1 & 2 & 2 & 4 & 1\\\\\n",
       "\torange & 3 & 4 & 2 & 2 & 1 & 1 & 0 & 3 & 2\\\\\n",
       "\tyellow & 6 & 4 & 5 & 2 & 3 & 1 & 1 & 3 & 0\\\\\n",
       "\tgreen & 2 & 0 & 5 & 1 & 3 & 3 & 3 & 1 & 5\\\\\n",
       "\tblue & 2 & 5 & 0 & 1 & 4 & 1 & 2 & 1 & 3\\\\\n",
       "\\end{tabular}\n"
      ],
      "text/markdown": [
       "\n",
       "A data.frame: 5 × 9\n",
       "\n",
       "| <!--/--> | Video &lt;int&gt; | Jazz &lt;int&gt; | Country &lt;int&gt; | Rap &lt;int&gt; | Pop &lt;int&gt; | Opera &lt;int&gt; | LowF &lt;int&gt; | HighF &lt;int&gt; | MidddleF &lt;int&gt; |\n",
       "|---|---|---|---|---|---|---|---|---|---|\n",
       "| red | 4 | 2 | 4 | 4 | 1 | 2 | 2 | 4 | 1 |\n",
       "| orange | 3 | 4 | 2 | 2 | 1 | 1 | 0 | 3 | 2 |\n",
       "| yellow | 6 | 4 | 5 | 2 | 3 | 1 | 1 | 3 | 0 |\n",
       "| green | 2 | 0 | 5 | 1 | 3 | 3 | 3 | 1 | 5 |\n",
       "| blue | 2 | 5 | 0 | 1 | 4 | 1 | 2 | 1 | 3 |\n",
       "\n"
      ],
      "text/plain": [
       "       Video Jazz Country Rap Pop Opera LowF HighF MidddleF\n",
       "red    4     2    4       4   1   2     2    4     1       \n",
       "orange 3     4    2       2   1   1     0    3     2       \n",
       "yellow 6     4    5       2   3   1     1    3     0       \n",
       "green  2     0    5       1   3   3     3    1     5       \n",
       "blue   2     5    0       1   4   1     2    1     3       "
      ]
     },
     "metadata": {},
     "output_type": "display_data"
    }
   ],
   "source": [
    "require(FactoMineR)\n",
    "music = 'https://hcmuteduvn-my.sharepoint.com/:x:/g/personal/tquang_sdh20_hcmut_edu_vn/EcrLzPHl2sVAp2zEaeSHYzABDShEIRoz22qthyRpx85tJA?download=1'\n",
    "music_dat = read.csv(music\n",
    "                    ,header = T\n",
    "                    ,row.names = 1\n",
    "                    ,sep = '\\t')\n",
    "#Show 5 rows of music data\n",
    "head(music_dat,5)"
   ]
  },
  {
   "cell_type": "code",
   "execution_count": 10,
   "id": "43d3c736-69ba-4939-8fe1-cda5657d0b44",
   "metadata": {},
   "outputs": [
    {
     "data": {
      "text/html": [
       "<table class=\"dataframe\">\n",
       "<caption>A matrix: 8 × 3 of type dbl</caption>\n",
       "<thead>\n",
       "\t<tr><th></th><th scope=col>eigenvalue</th><th scope=col>percentage of variance</th><th scope=col>cumulative percentage of variance</th></tr>\n",
       "</thead>\n",
       "<tbody>\n",
       "\t<tr><th scope=row>dim 1</th><td>0.2880411807</td><td>38.6035730</td><td> 38.60357</td></tr>\n",
       "\t<tr><th scope=row>dim 2</th><td>0.1932772026</td><td>25.9032079</td><td> 64.50678</td></tr>\n",
       "\t<tr><th scope=row>dim 3</th><td>0.1382988302</td><td>18.5349503</td><td> 83.04173</td></tr>\n",
       "\t<tr><th scope=row>dim 4</th><td>0.0721642871</td><td> 9.6715314</td><td> 92.71326</td></tr>\n",
       "\t<tr><th scope=row>dim 5</th><td>0.0339302026</td><td> 4.5473604</td><td> 97.26062</td></tr>\n",
       "\t<tr><th scope=row>dim 6</th><td>0.0172471568</td><td> 2.3114816</td><td> 99.57210</td></tr>\n",
       "\t<tr><th scope=row>dim 7</th><td>0.0030267966</td><td> 0.4056544</td><td> 99.97776</td></tr>\n",
       "\t<tr><th scope=row>dim 8</th><td>0.0001659523</td><td> 0.0222411</td><td>100.00000</td></tr>\n",
       "</tbody>\n",
       "</table>\n"
      ],
      "text/latex": [
       "A matrix: 8 × 3 of type dbl\n",
       "\\begin{tabular}{r|lll}\n",
       "  & eigenvalue & percentage of variance & cumulative percentage of variance\\\\\n",
       "\\hline\n",
       "\tdim 1 & 0.2880411807 & 38.6035730 &  38.60357\\\\\n",
       "\tdim 2 & 0.1932772026 & 25.9032079 &  64.50678\\\\\n",
       "\tdim 3 & 0.1382988302 & 18.5349503 &  83.04173\\\\\n",
       "\tdim 4 & 0.0721642871 &  9.6715314 &  92.71326\\\\\n",
       "\tdim 5 & 0.0339302026 &  4.5473604 &  97.26062\\\\\n",
       "\tdim 6 & 0.0172471568 &  2.3114816 &  99.57210\\\\\n",
       "\tdim 7 & 0.0030267966 &  0.4056544 &  99.97776\\\\\n",
       "\tdim 8 & 0.0001659523 &  0.0222411 & 100.00000\\\\\n",
       "\\end{tabular}\n"
      ],
      "text/markdown": [
       "\n",
       "A matrix: 8 × 3 of type dbl\n",
       "\n",
       "| <!--/--> | eigenvalue | percentage of variance | cumulative percentage of variance |\n",
       "|---|---|---|---|\n",
       "| dim 1 | 0.2880411807 | 38.6035730 |  38.60357 |\n",
       "| dim 2 | 0.1932772026 | 25.9032079 |  64.50678 |\n",
       "| dim 3 | 0.1382988302 | 18.5349503 |  83.04173 |\n",
       "| dim 4 | 0.0721642871 |  9.6715314 |  92.71326 |\n",
       "| dim 5 | 0.0339302026 |  4.5473604 |  97.26062 |\n",
       "| dim 6 | 0.0172471568 |  2.3114816 |  99.57210 |\n",
       "| dim 7 | 0.0030267966 |  0.4056544 |  99.97776 |\n",
       "| dim 8 | 0.0001659523 |  0.0222411 | 100.00000 |\n",
       "\n"
      ],
      "text/plain": [
       "      eigenvalue   percentage of variance cumulative percentage of variance\n",
       "dim 1 0.2880411807 38.6035730              38.60357                        \n",
       "dim 2 0.1932772026 25.9032079              64.50678                        \n",
       "dim 3 0.1382988302 18.5349503              83.04173                        \n",
       "dim 4 0.0721642871  9.6715314              92.71326                        \n",
       "dim 5 0.0339302026  4.5473604              97.26062                        \n",
       "dim 6 0.0172471568  2.3114816              99.57210                        \n",
       "dim 7 0.0030267966  0.4056544              99.97776                        \n",
       "dim 8 0.0001659523  0.0222411             100.00000                        "
      ]
     },
     "metadata": {},
     "output_type": "display_data"
    },
    {
     "data": {
      "image/png": "[encoded data removed]",
      "text/plain": [
       "plot without title"
      ]
     },
     "metadata": {
      "image/png": {
       "height": 420,
       "width": 900
      }
     },
     "output_type": "display_data"
    }
   ],
   "source": [
    "options(repr.plot.width=15, repr.plot.height=7)\n",
    "res.dat<-CA(music_dat)\n",
    "res.dat$eig"
   ]
  },
  {
   "cell_type": "code",
   "execution_count": null,
   "id": "78c38b45-fc29-4c41-9793-b7e8e0ae85b7",
   "metadata": {},
   "outputs": [],
   "source": []
  },
  {
   "cell_type": "code",
   "execution_count": null,
   "id": "a62f64ba-667c-4eae-a5c9-d7ae9b6016c2",
   "metadata": {},
   "outputs": [],
   "source": []
  },
  {
   "cell_type": "code",
   "execution_count": null,
   "id": "cbed9cec-2694-443c-be97-813198566317",
   "metadata": {},
   "outputs": [],
   "source": []
  },
  {
   "cell_type": "code",
   "execution_count": null,
   "id": "f66208bb-e7dd-4409-8618-d9a00d7b1259",
   "metadata": {},
   "outputs": [],
   "source": []
  },
  {
   "cell_type": "markdown",
   "id": "43dbd944-8876-4a8b-bde6-8a1b08a30d20",
   "metadata": {},
   "source": [
    "### Dữ liệu giải Nobel (Định dạng .csv)\n",
    "- Sử dụng `read.csv()` để đọc trực tiếp\n",
    "- Hàng đầu thể hiện tên các giải thưởng riêng biệt (header = T)\n",
    "- Cột đầu tên các vùng riêng biệt (row.names = 1)\n",
    "- Dữ liệu các cột cách nhau bằng ký tự \";\" (sep = ';') "
   ]
  },
  {
   "cell_type": "code",
   "execution_count": 8,
   "id": "fc0521a8-ad1b-4b01-85ba-94ba22217ac7",
   "metadata": {},
   "outputs": [
    {
     "data": {
      "text/html": [
       "<table class=\"dataframe\">\n",
       "<caption>A data.frame: 5 × 7</caption>\n",
       "<thead>\n",
       "\t<tr><th></th><th scope=col>Chimie</th><th scope=col>Economie</th><th scope=col>Littérature</th><th scope=col>Médecine</th><th scope=col>Paix</th><th scope=col>Physique</th><th scope=col>Mathématiques</th></tr>\n",
       "\t<tr><th></th><th scope=col>&lt;int&gt;</th><th scope=col>&lt;int&gt;</th><th scope=col>&lt;int&gt;</th><th scope=col>&lt;int&gt;</th><th scope=col>&lt;int&gt;</th><th scope=col>&lt;int&gt;</th><th scope=col>&lt;int&gt;</th></tr>\n",
       "</thead>\n",
       "<tbody>\n",
       "\t<tr><th scope=row>Allemagne</th><td>24</td><td>1</td><td> 8</td><td>18</td><td> 5</td><td>24</td><td> 1</td></tr>\n",
       "\t<tr><th scope=row>Canada</th><td> 4</td><td>3</td><td> 2</td><td> 4</td><td> 1</td><td> 4</td><td> 1</td></tr>\n",
       "\t<tr><th scope=row>France</th><td> 8</td><td>3</td><td>11</td><td>12</td><td>10</td><td> 9</td><td>11</td></tr>\n",
       "\t<tr><th scope=row>GB</th><td>23</td><td>6</td><td> 7</td><td>26</td><td>11</td><td>20</td><td> 4</td></tr>\n",
       "\t<tr><th scope=row>Italie</th><td> 1</td><td>1</td><td> 6</td><td> 5</td><td> 1</td><td> 5</td><td> 1</td></tr>\n",
       "</tbody>\n",
       "</table>\n"
      ],
      "text/latex": [
       "A data.frame: 5 × 7\n",
       "\\begin{tabular}{r|lllllll}\n",
       "  & Chimie & Economie & Littérature & Médecine & Paix & Physique & Mathématiques\\\\\n",
       "  & <int> & <int> & <int> & <int> & <int> & <int> & <int>\\\\\n",
       "\\hline\n",
       "\tAllemagne & 24 & 1 &  8 & 18 &  5 & 24 &  1\\\\\n",
       "\tCanada &  4 & 3 &  2 &  4 &  1 &  4 &  1\\\\\n",
       "\tFrance &  8 & 3 & 11 & 12 & 10 &  9 & 11\\\\\n",
       "\tGB & 23 & 6 &  7 & 26 & 11 & 20 &  4\\\\\n",
       "\tItalie &  1 & 1 &  6 &  5 &  1 &  5 &  1\\\\\n",
       "\\end{tabular}\n"
      ],
      "text/markdown": [
       "\n",
       "A data.frame: 5 × 7\n",
       "\n",
       "| <!--/--> | Chimie &lt;int&gt; | Economie &lt;int&gt; | Littérature &lt;int&gt; | Médecine &lt;int&gt; | Paix &lt;int&gt; | Physique &lt;int&gt; | Mathématiques &lt;int&gt; |\n",
       "|---|---|---|---|---|---|---|---|\n",
       "| Allemagne | 24 | 1 |  8 | 18 |  5 | 24 |  1 |\n",
       "| Canada |  4 | 3 |  2 |  4 |  1 |  4 |  1 |\n",
       "| France |  8 | 3 | 11 | 12 | 10 |  9 | 11 |\n",
       "| GB | 23 | 6 |  7 | 26 | 11 | 20 |  4 |\n",
       "| Italie |  1 | 1 |  6 |  5 |  1 |  5 |  1 |\n",
       "\n"
      ],
      "text/plain": [
       "          Chimie Economie Littérature Médecine Paix Physique Mathématiques\n",
       "Allemagne 24     1         8          18        5   24        1           \n",
       "Canada     4     3         2           4        1    4        1           \n",
       "France     8     3        11          12       10    9       11           \n",
       "GB        23     6         7          26       11   20        4           \n",
       "Italie     1     1         6           5        1    5        1           "
      ]
     },
     "metadata": {},
     "output_type": "display_data"
    }
   ],
   "source": [
    "nobel = 'https://hcmuteduvn-my.sharepoint.com/:x:/g/personal/tquang_sdh20_hcmut_edu_vn/EZJ-SAFHQuFDqe5JI1GxI7EB1Ck62CMuwymrXyD1oL8l-A?download=1'\n",
    "nobel_dat = read.csv(nobel\n",
    "                     ,header=T\n",
    "                     ,row.names=1\n",
    "                     ,sep=';')\n",
    "head(nobel_dat,5)"
   ]
  },
  {
   "cell_type": "markdown",
   "id": "0090fa77-2a2c-4caa-97f4-b518399726bb",
   "metadata": {},
   "source": [
    "### Dữ liệu (work_women.csv)\n",
    "Đọc dữ liệu như trên"
   ]
  },
  {
   "cell_type": "code",
   "execution_count": 10,
   "id": "c1af9a28-b2ff-4b8c-9bfa-018b78dc7ddb",
   "metadata": {},
   "outputs": [
    {
     "data": {
      "text/html": [
       "<table class=\"dataframe\">\n",
       "<caption>A data.frame: 3 × 7</caption>\n",
       "<thead>\n",
       "\t<tr><th></th><th scope=col>stay.at.home</th><th scope=col>part.time.work</th><th scope=col>full.time.work</th><th scope=col>women.cut.off.from.the.world..totally.agree</th><th scope=col>women.cut.off.from.the.world..mostly.agree</th><th scope=col>women.cut.off.from.the.world..mostly.disagree</th><th scope=col>women.cut.off.from.the.world..totally.disagree</th></tr>\n",
       "\t<tr><th></th><th scope=col>&lt;int&gt;</th><th scope=col>&lt;int&gt;</th><th scope=col>&lt;int&gt;</th><th scope=col>&lt;int&gt;</th><th scope=col>&lt;int&gt;</th><th scope=col>&lt;int&gt;</th><th scope=col>&lt;int&gt;</th></tr>\n",
       "</thead>\n",
       "<tbody>\n",
       "\t<tr><th scope=row>Both parents work equally</th><td> 13</td><td>142</td><td>106</td><td>107</td><td> 75</td><td> 40</td><td> 39</td></tr>\n",
       "\t<tr><th scope=row>Husband works more</th><td> 30</td><td>408</td><td>117</td><td>192</td><td>175</td><td>100</td><td> 88</td></tr>\n",
       "\t<tr><th scope=row>Only the husband works</th><td>241</td><td>573</td><td> 94</td><td>140</td><td>215</td><td>254</td><td>299</td></tr>\n",
       "</tbody>\n",
       "</table>\n"
      ],
      "text/latex": [
       "A data.frame: 3 × 7\n",
       "\\begin{tabular}{r|lllllll}\n",
       "  & stay.at.home & part.time.work & full.time.work & women.cut.off.from.the.world..totally.agree & women.cut.off.from.the.world..mostly.agree & women.cut.off.from.the.world..mostly.disagree & women.cut.off.from.the.world..totally.disagree\\\\\n",
       "  & <int> & <int> & <int> & <int> & <int> & <int> & <int>\\\\\n",
       "\\hline\n",
       "\tBoth parents work equally &  13 & 142 & 106 & 107 &  75 &  40 &  39\\\\\n",
       "\tHusband works more &  30 & 408 & 117 & 192 & 175 & 100 &  88\\\\\n",
       "\tOnly the husband works & 241 & 573 &  94 & 140 & 215 & 254 & 299\\\\\n",
       "\\end{tabular}\n"
      ],
      "text/markdown": [
       "\n",
       "A data.frame: 3 × 7\n",
       "\n",
       "| <!--/--> | stay.at.home &lt;int&gt; | part.time.work &lt;int&gt; | full.time.work &lt;int&gt; | women.cut.off.from.the.world..totally.agree &lt;int&gt; | women.cut.off.from.the.world..mostly.agree &lt;int&gt; | women.cut.off.from.the.world..mostly.disagree &lt;int&gt; | women.cut.off.from.the.world..totally.disagree &lt;int&gt; |\n",
       "|---|---|---|---|---|---|---|---|\n",
       "| Both parents work equally |  13 | 142 | 106 | 107 |  75 |  40 |  39 |\n",
       "| Husband works more |  30 | 408 | 117 | 192 | 175 | 100 |  88 |\n",
       "| Only the husband works | 241 | 573 |  94 | 140 | 215 | 254 | 299 |\n",
       "\n"
      ],
      "text/plain": [
       "                          stay.at.home part.time.work full.time.work\n",
       "Both parents work equally  13          142            106           \n",
       "Husband works more         30          408            117           \n",
       "Only the husband works    241          573             94           \n",
       "                          women.cut.off.from.the.world..totally.agree\n",
       "Both parents work equally 107                                        \n",
       "Husband works more        192                                        \n",
       "Only the husband works    140                                        \n",
       "                          women.cut.off.from.the.world..mostly.agree\n",
       "Both parents work equally  75                                       \n",
       "Husband works more        175                                       \n",
       "Only the husband works    215                                       \n",
       "                          women.cut.off.from.the.world..mostly.disagree\n",
       "Both parents work equally  40                                          \n",
       "Husband works more        100                                          \n",
       "Only the husband works    254                                          \n",
       "                          women.cut.off.from.the.world..totally.disagree\n",
       "Both parents work equally  39                                           \n",
       "Husband works more         88                                           \n",
       "Only the husband works    299                                           "
      ]
     },
     "metadata": {},
     "output_type": "display_data"
    }
   ],
   "source": [
    "work = 'https://hcmuteduvn-my.sharepoint.com/:x:/g/personal/tquang_sdh20_hcmut_edu_vn/Edo61seGmOFOhub8FFh1xEYBdGLRjTbLHN_iFFkXjicLLA?download=1'\n",
    "work_dat = read.csv(work\n",
    "                    ,header=T\n",
    "                    ,row.names=1\n",
    "                    ,sep=';')\n",
    "head(work_dat)"
   ]
  },
  {
   "cell_type": "code",
   "execution_count": null,
   "id": "39318519-2ac5-4abb-80ee-1e3823ce9ab3",
   "metadata": {},
   "outputs": [],
   "source": []
  }
 ],
 "metadata": {
  "kernelspec": {
   "display_name": "R 4.0.4",
   "language": "R",
   "name": "ir3.3"
  },
  "language_info": {
   "codemirror_mode": "r",
   "file_extension": ".r",
   "mimetype": "text/x-r-source",
   "name": "R",
   "pygments_lexer": "r",
   "version": "4.0.4"
  }
 },
 "nbformat": 4,
 "nbformat_minor": 5
}
