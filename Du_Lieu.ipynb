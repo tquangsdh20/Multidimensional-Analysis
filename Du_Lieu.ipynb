{
 "cells": [
  {
   "cell_type": "markdown",
   "id": "fc59153b-597b-4e84-981a-40135b7521ad",
   "metadata": {},
   "source": [
    "### Dữ liệu nhiệt độ theo vùng (Định dạng .csv)\n",
    "- Đọc trực tiếp lệnh `read.csv()`\n",
    "- Dữ liệu phân tách giữa các cột bằng ký tự \";\" (sep = ';')\n",
    "- Hàng đầu thể hiện tên các biến (header = T)\n",
    "- Cột đầu thể hiện tên các vùng khác nhau (row.names = 1)"
   ]
  },
  {
   "cell_type": "code",
   "execution_count": 33,
   "id": "698e8ce9-8730-4427-9199-99f2dc2f9a92",
   "metadata": {
    "tags": []
   },
   "outputs": [
    {
     "data": {
      "text/html": [
       "<table class=\"dataframe\">\n",
       "<caption>A data.frame: 5 × 17</caption>\n",
       "<thead>\n",
       "\t<tr><th></th><th scope=col>Janv</th><th scope=col>Févr</th><th scope=col>Mars</th><th scope=col>Avri</th><th scope=col>Mai</th><th scope=col>Juin</th><th scope=col>juil</th><th scope=col>Août</th><th scope=col>Sept</th><th scope=col>Octo</th><th scope=col>Nove</th><th scope=col>Déce</th><th scope=col>Lati</th><th scope=col>Long</th><th scope=col>Moye</th><th scope=col>Ampl</th><th scope=col>Région</th></tr>\n",
       "\t<tr><th></th><th scope=col>&lt;dbl&gt;</th><th scope=col>&lt;dbl&gt;</th><th scope=col>&lt;dbl&gt;</th><th scope=col>&lt;dbl&gt;</th><th scope=col>&lt;dbl&gt;</th><th scope=col>&lt;dbl&gt;</th><th scope=col>&lt;dbl&gt;</th><th scope=col>&lt;dbl&gt;</th><th scope=col>&lt;dbl&gt;</th><th scope=col>&lt;dbl&gt;</th><th scope=col>&lt;dbl&gt;</th><th scope=col>&lt;dbl&gt;</th><th scope=col>&lt;dbl&gt;</th><th scope=col>&lt;dbl&gt;</th><th scope=col>&lt;dbl&gt;</th><th scope=col>&lt;dbl&gt;</th><th scope=col>&lt;chr&gt;</th></tr>\n",
       "</thead>\n",
       "<tbody>\n",
       "\t<tr><th scope=row>Bordeaux</th><td>5.6</td><td>6.6</td><td>10.3</td><td>12.8</td><td>15.8</td><td>19.3</td><td>20.9</td><td>21.0</td><td>18.6</td><td>13.8</td><td>9.1</td><td>6.2</td><td>44.50</td><td>-0.34</td><td>13.33</td><td>15.4</td><td>SO</td></tr>\n",
       "\t<tr><th scope=row>Brest</th><td>6.1</td><td>5.8</td><td> 7.8</td><td> 9.2</td><td>11.6</td><td>14.4</td><td>15.6</td><td>16.0</td><td>14.7</td><td>12.0</td><td>9.0</td><td>7.0</td><td>48.24</td><td>-4.29</td><td>10.77</td><td>10.2</td><td>NO</td></tr>\n",
       "\t<tr><th scope=row>Clermont</th><td>2.6</td><td>3.7</td><td> 7.5</td><td>10.3</td><td>13.8</td><td>17.3</td><td>19.4</td><td>19.1</td><td>16.2</td><td>11.2</td><td>6.6</td><td>3.6</td><td>45.47</td><td> 3.05</td><td>10.94</td><td>16.8</td><td>SE</td></tr>\n",
       "\t<tr><th scope=row>Grenoble</th><td>1.5</td><td>3.2</td><td> 7.7</td><td>10.6</td><td>14.5</td><td>17.8</td><td>20.1</td><td>19.5</td><td>16.7</td><td>11.4</td><td>6.5</td><td>2.3</td><td>45.10</td><td> 5.43</td><td>10.98</td><td>18.6</td><td>SE</td></tr>\n",
       "\t<tr><th scope=row>Lille</th><td>2.4</td><td>2.9</td><td> 6.0</td><td> 8.9</td><td>12.4</td><td>15.3</td><td>17.1</td><td>17.1</td><td>14.7</td><td>10.4</td><td>6.1</td><td>3.5</td><td>50.38</td><td> 3.04</td><td> 9.73</td><td>14.7</td><td>NE</td></tr>\n",
       "</tbody>\n",
       "</table>\n"
      ],
      "text/latex": [
       "A data.frame: 5 × 17\n",
       "\\begin{tabular}{r|lllllllllllllllll}\n",
       "  & Janv & Févr & Mars & Avri & Mai & Juin & juil & Août & Sept & Octo & Nove & Déce & Lati & Long & Moye & Ampl & Région\\\\\n",
       "  & <dbl> & <dbl> & <dbl> & <dbl> & <dbl> & <dbl> & <dbl> & <dbl> & <dbl> & <dbl> & <dbl> & <dbl> & <dbl> & <dbl> & <dbl> & <dbl> & <chr>\\\\\n",
       "\\hline\n",
       "\tBordeaux & 5.6 & 6.6 & 10.3 & 12.8 & 15.8 & 19.3 & 20.9 & 21.0 & 18.6 & 13.8 & 9.1 & 6.2 & 44.50 & -0.34 & 13.33 & 15.4 & SO\\\\\n",
       "\tBrest & 6.1 & 5.8 &  7.8 &  9.2 & 11.6 & 14.4 & 15.6 & 16.0 & 14.7 & 12.0 & 9.0 & 7.0 & 48.24 & -4.29 & 10.77 & 10.2 & NO\\\\\n",
       "\tClermont & 2.6 & 3.7 &  7.5 & 10.3 & 13.8 & 17.3 & 19.4 & 19.1 & 16.2 & 11.2 & 6.6 & 3.6 & 45.47 &  3.05 & 10.94 & 16.8 & SE\\\\\n",
       "\tGrenoble & 1.5 & 3.2 &  7.7 & 10.6 & 14.5 & 17.8 & 20.1 & 19.5 & 16.7 & 11.4 & 6.5 & 2.3 & 45.10 &  5.43 & 10.98 & 18.6 & SE\\\\\n",
       "\tLille & 2.4 & 2.9 &  6.0 &  8.9 & 12.4 & 15.3 & 17.1 & 17.1 & 14.7 & 10.4 & 6.1 & 3.5 & 50.38 &  3.04 &  9.73 & 14.7 & NE\\\\\n",
       "\\end{tabular}\n"
      ],
      "text/markdown": [
       "\n",
       "A data.frame: 5 × 17\n",
       "\n",
       "| <!--/--> | Janv &lt;dbl&gt; | Févr &lt;dbl&gt; | Mars &lt;dbl&gt; | Avri &lt;dbl&gt; | Mai &lt;dbl&gt; | Juin &lt;dbl&gt; | juil &lt;dbl&gt; | Août &lt;dbl&gt; | Sept &lt;dbl&gt; | Octo &lt;dbl&gt; | Nove &lt;dbl&gt; | Déce &lt;dbl&gt; | Lati &lt;dbl&gt; | Long &lt;dbl&gt; | Moye &lt;dbl&gt; | Ampl &lt;dbl&gt; | Région &lt;chr&gt; |\n",
       "|---|---|---|---|---|---|---|---|---|---|---|---|---|---|---|---|---|---|\n",
       "| Bordeaux | 5.6 | 6.6 | 10.3 | 12.8 | 15.8 | 19.3 | 20.9 | 21.0 | 18.6 | 13.8 | 9.1 | 6.2 | 44.50 | -0.34 | 13.33 | 15.4 | SO |\n",
       "| Brest | 6.1 | 5.8 |  7.8 |  9.2 | 11.6 | 14.4 | 15.6 | 16.0 | 14.7 | 12.0 | 9.0 | 7.0 | 48.24 | -4.29 | 10.77 | 10.2 | NO |\n",
       "| Clermont | 2.6 | 3.7 |  7.5 | 10.3 | 13.8 | 17.3 | 19.4 | 19.1 | 16.2 | 11.2 | 6.6 | 3.6 | 45.47 |  3.05 | 10.94 | 16.8 | SE |\n",
       "| Grenoble | 1.5 | 3.2 |  7.7 | 10.6 | 14.5 | 17.8 | 20.1 | 19.5 | 16.7 | 11.4 | 6.5 | 2.3 | 45.10 |  5.43 | 10.98 | 18.6 | SE |\n",
       "| Lille | 2.4 | 2.9 |  6.0 |  8.9 | 12.4 | 15.3 | 17.1 | 17.1 | 14.7 | 10.4 | 6.1 | 3.5 | 50.38 |  3.04 |  9.73 | 14.7 | NE |\n",
       "\n"
      ],
      "text/plain": [
       "         Janv Févr Mars Avri Mai  Juin juil Août Sept Octo Nove Déce Lati \n",
       "Bordeaux 5.6  6.6  10.3 12.8 15.8 19.3 20.9 21.0 18.6 13.8 9.1  6.2  44.50\n",
       "Brest    6.1  5.8   7.8  9.2 11.6 14.4 15.6 16.0 14.7 12.0 9.0  7.0  48.24\n",
       "Clermont 2.6  3.7   7.5 10.3 13.8 17.3 19.4 19.1 16.2 11.2 6.6  3.6  45.47\n",
       "Grenoble 1.5  3.2   7.7 10.6 14.5 17.8 20.1 19.5 16.7 11.4 6.5  2.3  45.10\n",
       "Lille    2.4  2.9   6.0  8.9 12.4 15.3 17.1 17.1 14.7 10.4 6.1  3.5  50.38\n",
       "         Long  Moye  Ampl Région\n",
       "Bordeaux -0.34 13.33 15.4 SO    \n",
       "Brest    -4.29 10.77 10.2 NO    \n",
       "Clermont  3.05 10.94 16.8 SE    \n",
       "Grenoble  5.43 10.98 18.6 SE    \n",
       "Lille     3.04  9.73 14.7 NE    "
      ]
     },
     "metadata": {},
     "output_type": "display_data"
    }
   ],
   "source": [
    "temp = 'https://hcmuteduvn-my.sharepoint.com/:x:/g/personal/tquang_sdh20_hcmut_edu_vn/EY-2aXVlJBRCtq8dbEG6yXoBEv2SxBg-b2H1ASD_jPLyfg?download=1'\n",
    "raw_dat = read.csv(temp,header=T,row.names=1,sep=';')\n",
    "head(raw_dat,5)"
   ]
  },
  {
   "cell_type": "markdown",
   "id": "b5231ec9-ec77-4ce4-a180-abefb7c51910",
   "metadata": {},
   "source": [
    "### Dữ liệu cà chua 1 (Phân nhóm theo cột, định dạng .csv)\n",
    "- Đọc trực tiếp `read.csv()`\n",
    "- Phân tách giữa các cột trong file bằng ký tự tab (sep = '\\t' )\n",
    "- Cột đầu tiên là tên các đặc tính tiêng biệt (row.names = 1)"
   ]
  },
  {
   "cell_type": "code",
   "execution_count": 7,
   "id": "c58ca9e2-727a-4a38-a059-cb3a57907023",
   "metadata": {},
   "outputs": [
    {
     "data": {
      "text/html": [
       "<table class=\"dataframe\">\n",
       "<caption>A data.frame: 5 × 5</caption>\n",
       "<thead>\n",
       "\t<tr><th></th><th scope=col>Dim.1</th><th scope=col>Dim.2</th><th scope=col>Dim.3</th><th scope=col>Dim.4</th><th scope=col>Dim.5</th></tr>\n",
       "\t<tr><th></th><th scope=col>&lt;dbl&gt;</th><th scope=col>&lt;dbl&gt;</th><th scope=col>&lt;dbl&gt;</th><th scope=col>&lt;dbl&gt;</th><th scope=col>&lt;dbl&gt;</th></tr>\n",
       "</thead>\n",
       "<tbody>\n",
       "\t<tr><th scope=row>Ext_Color</th><td> 0.96</td><td> 0.24</td><td>-0.04072473</td><td> 0.08657336</td><td>-0.07112397</td></tr>\n",
       "\t<tr><th scope=row>Firm</th><td> 0.51</td><td>-0.86</td><td>-0.00037378</td><td>-0.04480631</td><td> 0.01422348</td></tr>\n",
       "\t<tr><th scope=row>Melty</th><td>-0.56</td><td> 0.83</td><td>-0.09117102</td><td>-0.02106699</td><td> 0.02429178</td></tr>\n",
       "\t<tr><th scope=row>Mealy</th><td>-0.88</td><td>-0.14</td><td> 0.46046582</td><td> 0.04700819</td><td>-0.01740027</td></tr>\n",
       "\t<tr><th scope=row>Sweet</th><td> 0.86</td><td> 0.42</td><td> 0.27443751</td><td>-0.11440795</td><td>-0.02172172</td></tr>\n",
       "</tbody>\n",
       "</table>\n"
      ],
      "text/latex": [
       "A data.frame: 5 × 5\n",
       "\\begin{tabular}{r|lllll}\n",
       "  & Dim.1 & Dim.2 & Dim.3 & Dim.4 & Dim.5\\\\\n",
       "  & <dbl> & <dbl> & <dbl> & <dbl> & <dbl>\\\\\n",
       "\\hline\n",
       "\tExt\\_Color &  0.96 &  0.24 & -0.04072473 &  0.08657336 & -0.07112397\\\\\n",
       "\tFirm &  0.51 & -0.86 & -0.00037378 & -0.04480631 &  0.01422348\\\\\n",
       "\tMelty & -0.56 &  0.83 & -0.09117102 & -0.02106699 &  0.02429178\\\\\n",
       "\tMealy & -0.88 & -0.14 &  0.46046582 &  0.04700819 & -0.01740027\\\\\n",
       "\tSweet &  0.86 &  0.42 &  0.27443751 & -0.11440795 & -0.02172172\\\\\n",
       "\\end{tabular}\n"
      ],
      "text/markdown": [
       "\n",
       "A data.frame: 5 × 5\n",
       "\n",
       "| <!--/--> | Dim.1 &lt;dbl&gt; | Dim.2 &lt;dbl&gt; | Dim.3 &lt;dbl&gt; | Dim.4 &lt;dbl&gt; | Dim.5 &lt;dbl&gt; |\n",
       "|---|---|---|---|---|---|\n",
       "| Ext_Color |  0.96 |  0.24 | -0.04072473 |  0.08657336 | -0.07112397 |\n",
       "| Firm |  0.51 | -0.86 | -0.00037378 | -0.04480631 |  0.01422348 |\n",
       "| Melty | -0.56 |  0.83 | -0.09117102 | -0.02106699 |  0.02429178 |\n",
       "| Mealy | -0.88 | -0.14 |  0.46046582 |  0.04700819 | -0.01740027 |\n",
       "| Sweet |  0.86 |  0.42 |  0.27443751 | -0.11440795 | -0.02172172 |\n",
       "\n"
      ],
      "text/plain": [
       "          Dim.1 Dim.2 Dim.3       Dim.4       Dim.5      \n",
       "Ext_Color  0.96  0.24 -0.04072473  0.08657336 -0.07112397\n",
       "Firm       0.51 -0.86 -0.00037378 -0.04480631  0.01422348\n",
       "Melty     -0.56  0.83 -0.09117102 -0.02106699  0.02429178\n",
       "Mealy     -0.88 -0.14  0.46046582  0.04700819 -0.01740027\n",
       "Sweet      0.86  0.42  0.27443751 -0.11440795 -0.02172172"
      ]
     },
     "metadata": {},
     "output_type": "display_data"
    }
   ],
   "source": [
    "tomato1 = 'https://hcmuteduvn-my.sharepoint.com/:x:/g/personal/tquang_sdh20_hcmut_edu_vn/EcaYBxmbbsZDpjRspOqGVb0B7xux5XJxLcK3s-BHx6PxDA?download=1'\n",
    "dat = read.csv(file2,header=1,sep='\\t',row.names=1)\n",
    "head(dat,5)"
   ]
  },
  {
   "cell_type": "markdown",
   "id": "a613a0c6-c5c5-4050-8ba1-1cba946006b0",
   "metadata": {},
   "source": [
    "### Dữ liệu cà chua (Định dạng .txt)\n",
    "- Đọc trực tiếp bằng hàm `read.table()`\n",
    "- Có headers (header = T)\n",
    "- Cột đầu tiên tên phân nhóm (row.names=1)"
   ]
  },
  {
   "cell_type": "code",
   "execution_count": 29,
   "id": "adda6ff4-eab7-4336-be7f-19c525693e4c",
   "metadata": {},
   "outputs": [
    {
     "data": {
      "text/html": [
       "<table class=\"dataframe\">\n",
       "<caption>A data.frame: 5 × 6</caption>\n",
       "<thead>\n",
       "\t<tr><th></th><th scope=col>Ext_Color</th><th scope=col>Firm</th><th scope=col>Melty</th><th scope=col>Mealy</th><th scope=col>Sweet</th><th scope=col>Tomato_Flavor</th></tr>\n",
       "\t<tr><th></th><th scope=col>&lt;dbl&gt;</th><th scope=col>&lt;dbl&gt;</th><th scope=col>&lt;dbl&gt;</th><th scope=col>&lt;dbl&gt;</th><th scope=col>&lt;dbl&gt;</th><th scope=col>&lt;dbl&gt;</th></tr>\n",
       "</thead>\n",
       "<tbody>\n",
       "\t<tr><th scope=row>A</th><td>8.43</td><td>5.46</td><td>4.50</td><td>0.50</td><td>6.89</td><td>8.00</td></tr>\n",
       "\t<tr><th scope=row>B</th><td>4.79</td><td>2.39</td><td>7.07</td><td>6.39</td><td>3.96</td><td>4.29</td></tr>\n",
       "\t<tr><th scope=row>C</th><td>6.79</td><td>6.96</td><td>3.29</td><td>1.61</td><td>4.11</td><td>5.46</td></tr>\n",
       "\t<tr><th scope=row>D</th><td>4.25</td><td>6.39</td><td>3.96</td><td>5.07</td><td>2.89</td><td>3.93</td></tr>\n",
       "\t<tr><th scope=row>E</th><td>6.89</td><td>6.32</td><td>3.61</td><td>2.46</td><td>4.18</td><td>6.25</td></tr>\n",
       "</tbody>\n",
       "</table>\n"
      ],
      "text/latex": [
       "A data.frame: 5 × 6\n",
       "\\begin{tabular}{r|llllll}\n",
       "  & Ext\\_Color & Firm & Melty & Mealy & Sweet & Tomato\\_Flavor\\\\\n",
       "  & <dbl> & <dbl> & <dbl> & <dbl> & <dbl> & <dbl>\\\\\n",
       "\\hline\n",
       "\tA & 8.43 & 5.46 & 4.50 & 0.50 & 6.89 & 8.00\\\\\n",
       "\tB & 4.79 & 2.39 & 7.07 & 6.39 & 3.96 & 4.29\\\\\n",
       "\tC & 6.79 & 6.96 & 3.29 & 1.61 & 4.11 & 5.46\\\\\n",
       "\tD & 4.25 & 6.39 & 3.96 & 5.07 & 2.89 & 3.93\\\\\n",
       "\tE & 6.89 & 6.32 & 3.61 & 2.46 & 4.18 & 6.25\\\\\n",
       "\\end{tabular}\n"
      ],
      "text/markdown": [
       "\n",
       "A data.frame: 5 × 6\n",
       "\n",
       "| <!--/--> | Ext_Color &lt;dbl&gt; | Firm &lt;dbl&gt; | Melty &lt;dbl&gt; | Mealy &lt;dbl&gt; | Sweet &lt;dbl&gt; | Tomato_Flavor &lt;dbl&gt; |\n",
       "|---|---|---|---|---|---|---|\n",
       "| A | 8.43 | 5.46 | 4.50 | 0.50 | 6.89 | 8.00 |\n",
       "| B | 4.79 | 2.39 | 7.07 | 6.39 | 3.96 | 4.29 |\n",
       "| C | 6.79 | 6.96 | 3.29 | 1.61 | 4.11 | 5.46 |\n",
       "| D | 4.25 | 6.39 | 3.96 | 5.07 | 2.89 | 3.93 |\n",
       "| E | 6.89 | 6.32 | 3.61 | 2.46 | 4.18 | 6.25 |\n",
       "\n"
      ],
      "text/plain": [
       "  Ext_Color Firm Melty Mealy Sweet Tomato_Flavor\n",
       "A 8.43      5.46 4.50  0.50  6.89  8.00         \n",
       "B 4.79      2.39 7.07  6.39  3.96  4.29         \n",
       "C 6.79      6.96 3.29  1.61  4.11  5.46         \n",
       "D 4.25      6.39 3.96  5.07  2.89  3.93         \n",
       "E 6.89      6.32 3.61  2.46  4.18  6.25         "
      ]
     },
     "metadata": {},
     "output_type": "display_data"
    }
   ],
   "source": [
    "tomato2 = 'https://hcmuteduvn-my.sharepoint.com/:t:/g/personal/tquang_sdh20_hcmut_edu_vn/EcVF40PDFKZAuG_q3X062VkBng2C1hZw_E9R3350LEXztg?download=1'\n",
    "dat = read.table(tomato2,header=T,row.names=1)\n",
    "head(dat2,5)"
   ]
  },
  {
   "cell_type": "markdown",
   "id": "54b548cf-2248-476a-bd01-cfe867bdcf2e",
   "metadata": {},
   "source": [
    "### Dữ liệu về Rượu (Định dạng .txt)\n",
    "Đọc trực tiếp `read.table()`"
   ]
  },
  {
   "cell_type": "code",
   "execution_count": 19,
   "id": "afce47f3-9888-418a-9775-4b3a3d362154",
   "metadata": {},
   "outputs": [
    {
     "data": {
      "text/html": [
       "<table class=\"dataframe\">\n",
       "<caption>A data.frame: 5 × 7</caption>\n",
       "<thead>\n",
       "\t<tr><th></th><th scope=col>Hedonic</th><th scope=col>Beef</th><th scope=col>Dessert</th><th scope=col>Price</th><th scope=col>Sugar</th><th scope=col>Alcohol</th><th scope=col>Acidity</th></tr>\n",
       "\t<tr><th></th><th scope=col>&lt;int&gt;</th><th scope=col>&lt;int&gt;</th><th scope=col>&lt;int&gt;</th><th scope=col>&lt;int&gt;</th><th scope=col>&lt;int&gt;</th><th scope=col>&lt;int&gt;</th><th scope=col>&lt;int&gt;</th></tr>\n",
       "</thead>\n",
       "<tbody>\n",
       "\t<tr><th scope=row>Wine1</th><td>14</td><td>7</td><td>8</td><td> 7</td><td>7</td><td>13</td><td>7</td></tr>\n",
       "\t<tr><th scope=row>Wine2</th><td>10</td><td>7</td><td>6</td><td> 4</td><td>3</td><td>14</td><td>7</td></tr>\n",
       "\t<tr><th scope=row>Wine3</th><td> 8</td><td>5</td><td>5</td><td>10</td><td>5</td><td>12</td><td>5</td></tr>\n",
       "\t<tr><th scope=row>Wine4</th><td> 2</td><td>4</td><td>7</td><td>16</td><td>7</td><td>11</td><td>3</td></tr>\n",
       "\t<tr><th scope=row>Wine5</th><td> 6</td><td>2</td><td>4</td><td>13</td><td>3</td><td>10</td><td>3</td></tr>\n",
       "</tbody>\n",
       "</table>\n"
      ],
      "text/latex": [
       "A data.frame: 5 × 7\n",
       "\\begin{tabular}{r|lllllll}\n",
       "  & Hedonic & Beef & Dessert & Price & Sugar & Alcohol & Acidity\\\\\n",
       "  & <int> & <int> & <int> & <int> & <int> & <int> & <int>\\\\\n",
       "\\hline\n",
       "\tWine1 & 14 & 7 & 8 &  7 & 7 & 13 & 7\\\\\n",
       "\tWine2 & 10 & 7 & 6 &  4 & 3 & 14 & 7\\\\\n",
       "\tWine3 &  8 & 5 & 5 & 10 & 5 & 12 & 5\\\\\n",
       "\tWine4 &  2 & 4 & 7 & 16 & 7 & 11 & 3\\\\\n",
       "\tWine5 &  6 & 2 & 4 & 13 & 3 & 10 & 3\\\\\n",
       "\\end{tabular}\n"
      ],
      "text/markdown": [
       "\n",
       "A data.frame: 5 × 7\n",
       "\n",
       "| <!--/--> | Hedonic &lt;int&gt; | Beef &lt;int&gt; | Dessert &lt;int&gt; | Price &lt;int&gt; | Sugar &lt;int&gt; | Alcohol &lt;int&gt; | Acidity &lt;int&gt; |\n",
       "|---|---|---|---|---|---|---|---|\n",
       "| Wine1 | 14 | 7 | 8 |  7 | 7 | 13 | 7 |\n",
       "| Wine2 | 10 | 7 | 6 |  4 | 3 | 14 | 7 |\n",
       "| Wine3 |  8 | 5 | 5 | 10 | 5 | 12 | 5 |\n",
       "| Wine4 |  2 | 4 | 7 | 16 | 7 | 11 | 3 |\n",
       "| Wine5 |  6 | 2 | 4 | 13 | 3 | 10 | 3 |\n",
       "\n"
      ],
      "text/plain": [
       "      Hedonic Beef Dessert Price Sugar Alcohol Acidity\n",
       "Wine1 14      7    8        7    7     13      7      \n",
       "Wine2 10      7    6        4    3     14      7      \n",
       "Wine3  8      5    5       10    5     12      5      \n",
       "Wine4  2      4    7       16    7     11      3      \n",
       "Wine5  6      2    4       13    3     10      3      "
      ]
     },
     "metadata": {},
     "output_type": "display_data"
    }
   ],
   "source": [
    "wine = 'https://hcmuteduvn-my.sharepoint.com/:t:/g/personal/tquang_sdh20_hcmut_edu_vn/Ed7o9gC0FghKmKSUrtypTVkBrwy14HodCVHpQS8qJ8vieA?download=1'\n",
    "wine_dat = read.table(wine,header=T,row.names=1)\n",
    "head(wine_dat,5)"
   ]
  },
  {
   "cell_type": "markdown",
   "id": "d7f9f6c8-c5f7-4c70-b3ec-713e9c2ba396",
   "metadata": {},
   "source": [
    "### READING DATA Prod (Định Dạng Excel tải về [tại đây]('https://hcmuteduvn-my.sharepoint.com/:x:/g/personal/tquang_sdh20_hcmut_edu_vn/Efxhcd5REjRKl0y0oTZSZh0B4-wU7gHoTLItUf1l4jZr6A?download=1'))"
   ]
  },
  {
   "cell_type": "code",
   "execution_count": 28,
   "id": "0f548c80-d491-4cf7-a60f-8a2a3806cca0",
   "metadata": {},
   "outputs": [
    {
     "data": {
      "text/html": [
       "<table class=\"dataframe\">\n",
       "<caption>A tibble: 5 × 19</caption>\n",
       "<thead>\n",
       "\t<tr><th scope=col>label</th><th scope=col>country of product</th><th scope=col>origin of salmon N : norway S : Scotland I : Ireland</th><th scope=col>water</th><th scope=col>lipid</th><th scope=col>TVBN</th><th scope=col>TMA</th><th scope=col>salt</th><th scope=col>phenol</th><th scope=col>pH</th><th scope=col>total viable count</th><th scope=col>lactic flora</th><th scope=col>lactobacilli</th><th scope=col>brochothrix</th><th scope=col>yeast</th><th scope=col>enterobacteriaceae</th><th scope=col>L*</th><th scope=col>a*</th><th scope=col>b*</th></tr>\n",
       "\t<tr><th scope=col>&lt;dbl&gt;</th><th scope=col>&lt;chr&gt;</th><th scope=col>&lt;chr&gt;</th><th scope=col>&lt;dbl&gt;</th><th scope=col>&lt;dbl&gt;</th><th scope=col>&lt;dbl&gt;</th><th scope=col>&lt;dbl&gt;</th><th scope=col>&lt;dbl&gt;</th><th scope=col>&lt;dbl&gt;</th><th scope=col>&lt;dbl&gt;</th><th scope=col>&lt;dbl&gt;</th><th scope=col>&lt;dbl&gt;</th><th scope=col>&lt;dbl&gt;</th><th scope=col>&lt;dbl&gt;</th><th scope=col>&lt;dbl&gt;</th><th scope=col>&lt;dbl&gt;</th><th scope=col>&lt;dbl&gt;</th><th scope=col>&lt;dbl&gt;</th><th scope=col>&lt;dbl&gt;</th></tr>\n",
       "</thead>\n",
       "<tbody>\n",
       "\t<tr><td>2</td><td>F</td><td>N</td><td>61.56</td><td>14.00</td><td>16</td><td>0</td><td>2.8</td><td>0.53</td><td>6.23</td><td>5.672098</td><td>5.161368</td><td>5.301030</td><td>2.544068</td><td>3.278754</td><td>4.58</td><td>55.07111</td><td>26.16000</td><td>24.28222</td></tr>\n",
       "\t<tr><td>5</td><td>F</td><td>N</td><td>60.99</td><td>12.79</td><td>21</td><td>4</td><td>3.0</td><td>0.68</td><td>6.21</td><td>6.340000</td><td>2.600000</td><td>2.870000</td><td>0.000000</td><td>4.060000</td><td>4.14</td><td>54.62222</td><td>30.57889</td><td>29.32444</td></tr>\n",
       "\t<tr><td>7</td><td>F</td><td>N</td><td>62.46</td><td>11.77</td><td>22</td><td>7</td><td>3.1</td><td>0.83</td><td>6.16</td><td>7.161368</td><td>5.633468</td><td>3.544068</td><td>2.740363</td><td>2.397940</td><td>3.48</td><td>49.04111</td><td>30.06444</td><td>26.91778</td></tr>\n",
       "\t<tr><td>8</td><td>F</td><td>S</td><td>61.66</td><td>10.56</td><td>17</td><td>0</td><td>3.1</td><td>0.50</td><td>6.15</td><td>4.930000</td><td>0.000000</td><td>0.000000</td><td>0.000000</td><td>0.000000</td><td>0.00</td><td>52.81889</td><td>35.14000</td><td>37.78333</td></tr>\n",
       "\t<tr><td>9</td><td>G</td><td>N</td><td>59.88</td><td>10.93</td><td>16</td><td>0</td><td>4.3</td><td>0.53</td><td>6.12</td><td>2.176091</td><td>0.000000</td><td>0.000000</td><td>0.000000</td><td>0.000000</td><td>1.18</td><td>47.42889</td><td>31.34667</td><td>27.87222</td></tr>\n",
       "</tbody>\n",
       "</table>\n"
      ],
      "text/latex": [
       "A tibble: 5 × 19\n",
       "\\begin{tabular}{lllllllllllllllllll}\n",
       " label & country of product & origin of salmon N : norway S : Scotland I : Ireland & water & lipid & TVBN & TMA & salt & phenol & pH & total viable count & lactic flora & lactobacilli & brochothrix & yeast & enterobacteriaceae & L* & a* & b*\\\\\n",
       " <dbl> & <chr> & <chr> & <dbl> & <dbl> & <dbl> & <dbl> & <dbl> & <dbl> & <dbl> & <dbl> & <dbl> & <dbl> & <dbl> & <dbl> & <dbl> & <dbl> & <dbl> & <dbl>\\\\\n",
       "\\hline\n",
       "\t 2 & F & N & 61.56 & 14.00 & 16 & 0 & 2.8 & 0.53 & 6.23 & 5.672098 & 5.161368 & 5.301030 & 2.544068 & 3.278754 & 4.58 & 55.07111 & 26.16000 & 24.28222\\\\\n",
       "\t 5 & F & N & 60.99 & 12.79 & 21 & 4 & 3.0 & 0.68 & 6.21 & 6.340000 & 2.600000 & 2.870000 & 0.000000 & 4.060000 & 4.14 & 54.62222 & 30.57889 & 29.32444\\\\\n",
       "\t 7 & F & N & 62.46 & 11.77 & 22 & 7 & 3.1 & 0.83 & 6.16 & 7.161368 & 5.633468 & 3.544068 & 2.740363 & 2.397940 & 3.48 & 49.04111 & 30.06444 & 26.91778\\\\\n",
       "\t 8 & F & S & 61.66 & 10.56 & 17 & 0 & 3.1 & 0.50 & 6.15 & 4.930000 & 0.000000 & 0.000000 & 0.000000 & 0.000000 & 0.00 & 52.81889 & 35.14000 & 37.78333\\\\\n",
       "\t 9 & G & N & 59.88 & 10.93 & 16 & 0 & 4.3 & 0.53 & 6.12 & 2.176091 & 0.000000 & 0.000000 & 0.000000 & 0.000000 & 1.18 & 47.42889 & 31.34667 & 27.87222\\\\\n",
       "\\end{tabular}\n"
      ],
      "text/markdown": [
       "\n",
       "A tibble: 5 × 19\n",
       "\n",
       "| label &lt;dbl&gt; | country of product &lt;chr&gt; | origin of salmon N : norway S : Scotland I : Ireland &lt;chr&gt; | water &lt;dbl&gt; | lipid &lt;dbl&gt; | TVBN &lt;dbl&gt; | TMA &lt;dbl&gt; | salt &lt;dbl&gt; | phenol &lt;dbl&gt; | pH &lt;dbl&gt; | total viable count &lt;dbl&gt; | lactic flora &lt;dbl&gt; | lactobacilli &lt;dbl&gt; | brochothrix &lt;dbl&gt; | yeast &lt;dbl&gt; | enterobacteriaceae &lt;dbl&gt; | L* &lt;dbl&gt; | a* &lt;dbl&gt; | b* &lt;dbl&gt; |\n",
       "|---|---|---|---|---|---|---|---|---|---|---|---|---|---|---|---|---|---|---|\n",
       "| 2 | F | N | 61.56 | 14.00 | 16 | 0 | 2.8 | 0.53 | 6.23 | 5.672098 | 5.161368 | 5.301030 | 2.544068 | 3.278754 | 4.58 | 55.07111 | 26.16000 | 24.28222 |\n",
       "| 5 | F | N | 60.99 | 12.79 | 21 | 4 | 3.0 | 0.68 | 6.21 | 6.340000 | 2.600000 | 2.870000 | 0.000000 | 4.060000 | 4.14 | 54.62222 | 30.57889 | 29.32444 |\n",
       "| 7 | F | N | 62.46 | 11.77 | 22 | 7 | 3.1 | 0.83 | 6.16 | 7.161368 | 5.633468 | 3.544068 | 2.740363 | 2.397940 | 3.48 | 49.04111 | 30.06444 | 26.91778 |\n",
       "| 8 | F | S | 61.66 | 10.56 | 17 | 0 | 3.1 | 0.50 | 6.15 | 4.930000 | 0.000000 | 0.000000 | 0.000000 | 0.000000 | 0.00 | 52.81889 | 35.14000 | 37.78333 |\n",
       "| 9 | G | N | 59.88 | 10.93 | 16 | 0 | 4.3 | 0.53 | 6.12 | 2.176091 | 0.000000 | 0.000000 | 0.000000 | 0.000000 | 1.18 | 47.42889 | 31.34667 | 27.87222 |\n",
       "\n"
      ],
      "text/plain": [
       "  label country of product origin of salmon N : norway S : Scotland I : Ireland\n",
       "1 2     F                  N                                                   \n",
       "2 5     F                  N                                                   \n",
       "3 7     F                  N                                                   \n",
       "4 8     F                  S                                                   \n",
       "5 9     G                  N                                                   \n",
       "  water lipid TVBN TMA salt phenol pH   total viable count lactic flora\n",
       "1 61.56 14.00 16   0   2.8  0.53   6.23 5.672098           5.161368    \n",
       "2 60.99 12.79 21   4   3.0  0.68   6.21 6.340000           2.600000    \n",
       "3 62.46 11.77 22   7   3.1  0.83   6.16 7.161368           5.633468    \n",
       "4 61.66 10.56 17   0   3.1  0.50   6.15 4.930000           0.000000    \n",
       "5 59.88 10.93 16   0   4.3  0.53   6.12 2.176091           0.000000    \n",
       "  lactobacilli brochothrix yeast    enterobacteriaceae L*       a*      \n",
       "1 5.301030     2.544068    3.278754 4.58               55.07111 26.16000\n",
       "2 2.870000     0.000000    4.060000 4.14               54.62222 30.57889\n",
       "3 3.544068     2.740363    2.397940 3.48               49.04111 30.06444\n",
       "4 0.000000     0.000000    0.000000 0.00               52.81889 35.14000\n",
       "5 0.000000     0.000000    0.000000 1.18               47.42889 31.34667\n",
       "  b*      \n",
       "1 24.28222\n",
       "2 29.32444\n",
       "3 26.91778\n",
       "4 37.78333\n",
       "5 27.87222"
      ]
     },
     "metadata": {},
     "output_type": "display_data"
    }
   ],
   "source": [
    "#path = Đường dẫn C:\\\\Users\\\\...\\\\file.xls hoặc C:/Users/.../file.xls (macOS)\n",
    "path = 'C:/Users/Joseph/...../Prod_caract.xls'\n",
    "dat = read_excel(path,col_names=T,sheet='data',range=\"A1:S31\")\n",
    "head(dat,5)"
   ]
  },
  {
   "cell_type": "code",
   "execution_count": null,
   "id": "90c37cfe-929c-4a64-ad76-ea5a4bde019f",
   "metadata": {},
   "outputs": [],
   "source": []
  }
 ],
 "metadata": {
  "kernelspec": {
   "display_name": "R 4.0.4",
   "language": "R",
   "name": "ir3.3"
  },
  "language_info": {
   "codemirror_mode": "r",
   "file_extension": ".r",
   "mimetype": "text/x-r-source",
   "name": "R",
   "pygments_lexer": "r",
   "version": "4.0.4"
  }
 },
 "nbformat": 4,
 "nbformat_minor": 5
}
