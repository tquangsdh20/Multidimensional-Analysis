{
 "cells": [
  {
   "cell_type": "markdown",
   "id": "f4c20019-f379-4bcb-a91c-d4aa1caa29d3",
   "metadata": {},
   "source": [
    "# Phân tích khả năng logic tính toán của học sinh giữa các nhóm học sinh từ nhóm quốc gia khác nhau\n",
    "\n",
    "#### Họ và Tên: Trần Quang\n",
    "#### MS: 2070426\n",
    "\n",
    "## 1. Data Collection\n",
    "Dữ liệu gồm thông tin thành tích học tập của học sinh từ hai trường cấp hai ở Bồ Đào Nha (Gabriel Pereira và Mousinho da Silveira). Các trường thông tin bên trong tập dữ liệu gồm có điểm số của học sinh, dân tộc, hoàn cảnh xã hội và nhóm lớp học. Dữ liệu được thu thập bằng mẫu báo cáo và các câu hỏi theo form của nhà trường. Tập dữ liệu có thể tải [tại đây](https://hcmuteduvn-my.sharepoint.com/:x:/g/personal/tquang_sdh20_hcmut_edu_vn/EcVuvMmSoepAoNIzxD1mrVIBETC0ev1Pui5ktP_QnQaA-w?download=1).\n",
    "\n",
    "## 2. Data Presentation\n",
    "Thông tin về các trường chính trong dữ liệu:\n",
    "1. **gender** - giới tính (*female / male*)\n",
    "2. **race.ethnicity** - nhóm dân tộc: (Gồm 5 nhóm: *group A*, *group B*, *group C*, *group D* và *group E*)\n",
    "3. **parental.level.of.education** - trình độ học vấn của bố mẹ : Gồm các nhóm\n",
    "    - *bachelor's degree*: Đại Học\n",
    "    - *some college*: Cao Đẳng\n",
    "    - *master's degree*: Thạc Sĩ\n",
    "    - *associate's degree*: Cử Nhân\n",
    "    - *high school*: Trung Cấp\n",
    "4. **lunch** - loại bữa ăn trưa thường ăn tại trường\n",
    "    - *standard* : tiêu chuẩn\n",
    "    - *free/reduced*: diện miễn / giảm\n",
    "5. **test.preparation.course** - hoàn thành khóa luyện thi (*none* / *completed*)\n",
    "6. **math.score** - điểm môn toán (từ 0 đến 100)\n",
    "7. **reading.score** - điểm đọc (từ 0 đến 100)\n",
    "8. **writing.score** - điểm viết (từ 0 đến 100)\n"
   ]
  },
  {
   "cell_type": "code",
   "execution_count": 2,
   "id": "f2d01f27-3c03-4712-835b-7edaff248276",
   "metadata": {},
   "outputs": [
    {
     "data": {
      "text/html": [
       "<table class=\"dataframe\">\n",
       "<caption>A data.frame: 10 × 8</caption>\n",
       "<thead>\n",
       "\t<tr><th></th><th scope=col>gender</th><th scope=col>race.ethnicity</th><th scope=col>parental.level.of.education</th><th scope=col>lunch</th><th scope=col>test.preparation.course</th><th scope=col>math.score</th><th scope=col>reading.score</th><th scope=col>writing.score</th></tr>\n",
       "\t<tr><th></th><th scope=col>&lt;chr&gt;</th><th scope=col>&lt;chr&gt;</th><th scope=col>&lt;chr&gt;</th><th scope=col>&lt;chr&gt;</th><th scope=col>&lt;chr&gt;</th><th scope=col>&lt;int&gt;</th><th scope=col>&lt;int&gt;</th><th scope=col>&lt;int&gt;</th></tr>\n",
       "</thead>\n",
       "<tbody>\n",
       "\t<tr><th scope=row>1</th><td>female</td><td>group B</td><td>bachelor's degree </td><td>standard    </td><td>none     </td><td>72</td><td>72</td><td>74</td></tr>\n",
       "\t<tr><th scope=row>2</th><td>female</td><td>group C</td><td>some college      </td><td>standard    </td><td>completed</td><td>69</td><td>90</td><td>88</td></tr>\n",
       "\t<tr><th scope=row>3</th><td>female</td><td>group B</td><td>master's degree   </td><td>standard    </td><td>none     </td><td>90</td><td>95</td><td>93</td></tr>\n",
       "\t<tr><th scope=row>4</th><td>male  </td><td>group A</td><td>associate's degree</td><td>free/reduced</td><td>none     </td><td>47</td><td>57</td><td>44</td></tr>\n",
       "\t<tr><th scope=row>5</th><td>male  </td><td>group C</td><td>some college      </td><td>standard    </td><td>none     </td><td>76</td><td>78</td><td>75</td></tr>\n",
       "\t<tr><th scope=row>6</th><td>female</td><td>group B</td><td>associate's degree</td><td>standard    </td><td>none     </td><td>71</td><td>83</td><td>78</td></tr>\n",
       "\t<tr><th scope=row>7</th><td>female</td><td>group B</td><td>some college      </td><td>standard    </td><td>completed</td><td>88</td><td>95</td><td>92</td></tr>\n",
       "\t<tr><th scope=row>8</th><td>male  </td><td>group B</td><td>some college      </td><td>free/reduced</td><td>none     </td><td>40</td><td>43</td><td>39</td></tr>\n",
       "\t<tr><th scope=row>9</th><td>male  </td><td>group D</td><td>high school       </td><td>free/reduced</td><td>completed</td><td>64</td><td>64</td><td>67</td></tr>\n",
       "\t<tr><th scope=row>10</th><td>female</td><td>group B</td><td>high school       </td><td>free/reduced</td><td>none     </td><td>38</td><td>60</td><td>50</td></tr>\n",
       "</tbody>\n",
       "</table>\n"
      ],
      "text/latex": [
       "A data.frame: 10 × 8\n",
       "\\begin{tabular}{r|llllllll}\n",
       "  & gender & race.ethnicity & parental.level.of.education & lunch & test.preparation.course & math.score & reading.score & writing.score\\\\\n",
       "  & <chr> & <chr> & <chr> & <chr> & <chr> & <int> & <int> & <int>\\\\\n",
       "\\hline\n",
       "\t1 & female & group B & bachelor's degree  & standard     & none      & 72 & 72 & 74\\\\\n",
       "\t2 & female & group C & some college       & standard     & completed & 69 & 90 & 88\\\\\n",
       "\t3 & female & group B & master's degree    & standard     & none      & 90 & 95 & 93\\\\\n",
       "\t4 & male   & group A & associate's degree & free/reduced & none      & 47 & 57 & 44\\\\\n",
       "\t5 & male   & group C & some college       & standard     & none      & 76 & 78 & 75\\\\\n",
       "\t6 & female & group B & associate's degree & standard     & none      & 71 & 83 & 78\\\\\n",
       "\t7 & female & group B & some college       & standard     & completed & 88 & 95 & 92\\\\\n",
       "\t8 & male   & group B & some college       & free/reduced & none      & 40 & 43 & 39\\\\\n",
       "\t9 & male   & group D & high school        & free/reduced & completed & 64 & 64 & 67\\\\\n",
       "\t10 & female & group B & high school        & free/reduced & none      & 38 & 60 & 50\\\\\n",
       "\\end{tabular}\n"
      ],
      "text/markdown": [
       "\n",
       "A data.frame: 10 × 8\n",
       "\n",
       "| <!--/--> | gender &lt;chr&gt; | race.ethnicity &lt;chr&gt; | parental.level.of.education &lt;chr&gt; | lunch &lt;chr&gt; | test.preparation.course &lt;chr&gt; | math.score &lt;int&gt; | reading.score &lt;int&gt; | writing.score &lt;int&gt; |\n",
       "|---|---|---|---|---|---|---|---|---|\n",
       "| 1 | female | group B | bachelor's degree  | standard     | none      | 72 | 72 | 74 |\n",
       "| 2 | female | group C | some college       | standard     | completed | 69 | 90 | 88 |\n",
       "| 3 | female | group B | master's degree    | standard     | none      | 90 | 95 | 93 |\n",
       "| 4 | male   | group A | associate's degree | free/reduced | none      | 47 | 57 | 44 |\n",
       "| 5 | male   | group C | some college       | standard     | none      | 76 | 78 | 75 |\n",
       "| 6 | female | group B | associate's degree | standard     | none      | 71 | 83 | 78 |\n",
       "| 7 | female | group B | some college       | standard     | completed | 88 | 95 | 92 |\n",
       "| 8 | male   | group B | some college       | free/reduced | none      | 40 | 43 | 39 |\n",
       "| 9 | male   | group D | high school        | free/reduced | completed | 64 | 64 | 67 |\n",
       "| 10 | female | group B | high school        | free/reduced | none      | 38 | 60 | 50 |\n",
       "\n"
      ],
      "text/plain": [
       "   gender race.ethnicity parental.level.of.education lunch       \n",
       "1  female group B        bachelor's degree           standard    \n",
       "2  female group C        some college                standard    \n",
       "3  female group B        master's degree             standard    \n",
       "4  male   group A        associate's degree          free/reduced\n",
       "5  male   group C        some college                standard    \n",
       "6  female group B        associate's degree          standard    \n",
       "7  female group B        some college                standard    \n",
       "8  male   group B        some college                free/reduced\n",
       "9  male   group D        high school                 free/reduced\n",
       "10 female group B        high school                 free/reduced\n",
       "   test.preparation.course math.score reading.score writing.score\n",
       "1  none                    72         72            74           \n",
       "2  completed               69         90            88           \n",
       "3  none                    90         95            93           \n",
       "4  none                    47         57            44           \n",
       "5  none                    76         78            75           \n",
       "6  none                    71         83            78           \n",
       "7  completed               88         95            92           \n",
       "8  none                    40         43            39           \n",
       "9  completed               64         64            67           \n",
       "10 none                    38         60            50           "
      ]
     },
     "metadata": {},
     "output_type": "display_data"
    }
   ],
   "source": [
    "file = 'https://hcmuteduvn-my.sharepoint.com/:x:/g/personal/tquang_sdh20_hcmut_edu_vn/EcVuvMmSoepAoNIzxD1mrVIBETC0ev1Pui5ktP_QnQaA-w?download=1'\n",
    "data = read.csv(file,header=T)\n",
    "head(data,10)"
   ]
  },
  {
   "cell_type": "markdown",
   "id": "f612067d-f7dd-4d92-ae67-99b79a0b90cc",
   "metadata": {},
   "source": [
    "## 3. Data Analysis and Interpretation\n",
    "\n",
    "### 3.1. Triết xuất dữ liệu\n",
    "Từ dữ liệu trên ta sẽ tiến hành triết xuất để phân tích về khả năng tư duy logic dựa trên điểm môn toán (*math.score*) giữa các nhóm dân tộc khác nhau (*race.ethnicity*).\n",
    "\n"
   ]
  },
  {
   "cell_type": "code",
   "execution_count": 23,
   "id": "0295cce9-15f3-4a91-b9a6-17d76677c8f6",
   "metadata": {},
   "outputs": [
    {
     "data": {
      "text/html": [
       "<style>\n",
       ".list-inline {list-style: none; margin:0; padding: 0}\n",
       ".list-inline>li {display: inline-block}\n",
       ".list-inline>li:not(:last-child)::after {content: \"\\00b7\"; padding: 0 .5ex}\n",
       "</style>\n",
       "<ol class=list-inline><li>'Ethnicity'</li><li>'Math'</li></ol>\n"
      ],
      "text/latex": [
       "\\begin{enumerate*}\n",
       "\\item 'Ethnicity'\n",
       "\\item 'Math'\n",
       "\\end{enumerate*}\n"
      ],
      "text/markdown": [
       "1. 'Ethnicity'\n",
       "2. 'Math'\n",
       "\n",
       "\n"
      ],
      "text/plain": [
       "[1] \"Ethnicity\" \"Math\"     "
      ]
     },
     "metadata": {},
     "output_type": "display_data"
    },
    {
     "name": "stderr",
     "output_type": "stream",
     "text": [
      "The following objects are masked from mydata (pos = 3):\n",
      "\n",
      "    Ethnicity, Math\n",
      "\n",
      "\n"
     ]
    }
   ],
   "source": [
    "mydata <- data.frame(Ethnicity = data[2],Math = data[6])\n",
    "colnames(mydata) <- c(\"Ethnicity\",\"Math\")\n",
    "names(mydata)\n",
    "attach(mydata)"
   ]
  },
  {
   "cell_type": "markdown",
   "id": "e01fd803-bb7c-462c-b112-8ee707b1bc15",
   "metadata": {},
   "source": [
    "### 3.2. Phân tích dữ liệu\n"
   ]
  },
  {
   "cell_type": "code",
   "execution_count": 25,
   "id": "11fac0d6-3ecc-431e-8675-783add803da8",
   "metadata": {},
   "outputs": [
    {
     "data": {
      "text/plain": [
       "\n",
       " Descriptive statistics by group \n",
       "group: group A\n",
       "   vars  n  mean    sd   se\n",
       "X1    1 89 61.63 14.52 1.54\n",
       "------------------------------------------------------------ \n",
       "group: group B\n",
       "   vars   n  mean    sd   se\n",
       "X1    1 190 63.45 15.47 1.12\n",
       "------------------------------------------------------------ \n",
       "group: group C\n",
       "   vars   n  mean    sd   se\n",
       "X1    1 319 64.46 14.85 0.83\n",
       "------------------------------------------------------------ \n",
       "group: group D\n",
       "   vars   n  mean    sd   se\n",
       "X1    1 262 67.36 13.77 0.85\n",
       "------------------------------------------------------------ \n",
       "group: group E\n",
       "   vars   n  mean    sd   se\n",
       "X1    1 140 73.82 15.53 1.31"
      ]
     },
     "metadata": {},
     "output_type": "display_data"
    }
   ],
   "source": [
    "require(psych)\n",
    "describeBy(data[6],data$race.ethnicity,range=F,skew=F)"
   ]
  },
  {
   "cell_type": "code",
   "execution_count": 26,
   "id": "521e8aaa-46c6-4cd0-918b-68d1230caa63",
   "metadata": {},
   "outputs": [
    {
     "data": {
      "image/png": "[encoded data removed]",
      "text/plain": [
       "plot without title"
      ]
     },
     "metadata": {
      "image/png": {
       "height": 420,
       "width": 420
      }
     },
     "output_type": "display_data"
    }
   ],
   "source": [
    "plot(as.factor(Ethnicity),Math,ylab=\"Math Score\",xlab=\"Ethnicity\")"
   ]
  },
  {
   "cell_type": "markdown",
   "id": "9cecab5b-9722-4360-a0e5-11c6ee20ea3f",
   "metadata": {},
   "source": [
    "Từ kết quả biểu diễn trên ta có thể thấy được giá trị trung bình các nhóm giao động từ *61.63* đến *73.82* điểm và có sự trên lệch tương đối giữa các nhóm với nhau. _**Phù hợp cho việc sử dụng phương pháp phân tích ANOVA để kiểm định sự có hay không sự khác biệt về khả năng tư duy logic giữa các nhóm dân tộc khác nhau trong thực tế**_.\n",
    "\n",
    "Để kết quả phân tích ANOVA chuẩn xác hơn, trước tiên ta kiểm tra lại phân bố của tập dữ liệu có tuân theo quy luật phân phối chuẩn hay không dựa vào **biểu đồ Histgram** và **biểu đồ qqNorm** của nó."
   ]
  },
  {
   "cell_type": "code",
   "execution_count": 27,
   "id": "f16a0124-6c8f-43eb-bc2a-7f3d7824d93a",
   "metadata": {},
   "outputs": [
    {
     "data": {
      "image/png": "[encoded data removed]",
      "text/plain": [
       "Plot with title \"Histogram of Math\""
      ]
     },
     "metadata": {
      "image/png": {
       "height": 420,
       "width": 420
      }
     },
     "output_type": "display_data"
    }
   ],
   "source": [
    "hist(Math)"
   ]
  },
  {
   "cell_type": "code",
   "execution_count": 31,
   "id": "df24d1e5-7d2d-4262-8c0f-dda1ffb9270a",
   "metadata": {
    "tags": []
   },
   "outputs": [
    {
     "name": "stderr",
     "output_type": "stream",
     "text": [
      "Your code contains a unicode char which cannot be displayed in your\n",
      "current locale and R will silently convert it to an escaped form when the\n",
      "R kernel executes this code. This can lead to subtle errors if you use\n",
      "such chars to do comparisons. For more information, please see\n",
      "https://github.com/IRkernel/repr/wiki/Problems-with-unicode-on-windows"
     ]
    },
    {
     "data": {
      "image/png": "[encoded data removed]",
      "text/plain": [
       "Plot with title \"Normal Q-Q Plot\""
      ]
     },
     "metadata": {
      "image/png": {
       "height": 420,
       "width": 420
      }
     },
     "output_type": "display_data"
    }
   ],
   "source": [
    "#Xem xét phân bố của dữ liệu\n",
    "qqnorm(Math)\n",
    "qqline(Math, col = 2) "
   ]
  },
  {
   "cell_type": "markdown",
   "id": "88a026e3-6e3f-4d81-be55-efe641a0ee40",
   "metadata": {},
   "source": [
    "Cả biểu đồ Histgram và qqNorm của dữ liệu đều thể hiện phân bố của dữ liệu gần như tuân theo quy luật phân phối chuẩn. Ta có thể tiến hành phân tích dữ liệu bằng phương pháp ANOVA."
   ]
  },
  {
   "cell_type": "markdown",
   "id": "7ae46dad-fedf-45bb-9d62-14912dc71678",
   "metadata": {},
   "source": [
    "### 3.3. Phân tích phương sai (ANOVA)\n",
    "<a name =\"giathiet\"></a>\n",
    "#### 3.3.1. Giả thiết vô hiệu được đặt ra là: \n",
    "> \"**Tất cả các nhóm dân tộc khác nhau ở Bồ Đào Nha đều có khả năng tính toán tư duy logic là như nhau**\"\n",
    "\n",
    "#### 3.3.2. Tính toán và lập bảng"
   ]
  },
  {
   "cell_type": "code",
   "execution_count": 32,
   "id": "d4f43093-ec61-4ff2-87d3-d0ee25f2c69c",
   "metadata": {},
   "outputs": [
    {
     "data": {
      "text/plain": [
       "             Df Sum Sq Mean Sq F value   Pr(>F)    \n",
       "Ethnicity     4  12729    3182   14.59 1.37e-11 ***\n",
       "Residuals   995 216960     218                     \n",
       "---\n",
       "Signif. codes:  0 '***' 0.001 '**' 0.01 '*' 0.05 '.' 0.1 ' ' 1"
      ]
     },
     "metadata": {},
     "output_type": "display_data"
    }
   ],
   "source": [
    "av = aov(Math~Ethnicity)\n",
    "summary(av) #Show the summary of the analysis of variance"
   ]
  },
  {
   "cell_type": "markdown",
   "id": "af76112c-cc9d-42e4-a98e-4ace241a4643",
   "metadata": {},
   "source": [
    "#### Bảng phân tích phương sai  \n",
    "\n",
    "| Source | SS | df  | MS | $F_{val}$ |\n",
    "|:------:|---:|----:|----:|:--------:|\n",
    "|*Between-A*|  12 729  |   4  |3182|14.59|\n",
    "|  *Within-S(A)*  |  216 960  | 995  |218||\n",
    "| **Total**| 229 689 | 999 | 3400| |\n",
    "\n",
    "#### Đánh giá kết quả  \n",
    "- $F_{value} = 14.59 > F(4,995) = 2.463$ \n",
    "- $Pr=1.37 x 10^{-11} < 0.05$  \n",
    "\n",
    "Vì vậy, <a href=\"giathiet\">giả thiết vô hiệu</a> được bác bỏ. **Nghĩa là có sự khác biệt về tư duy logic tính toán giữa các dân tộc khác nhau**.\n",
    "\n",
    "## 4. Phân tích hậu định (Post-hoc analysis)\n",
    "Sau quá trình *phân tích ANOVA*, ta biết được rằng có sự khác biệt về tư duy logic tính toán giữa các nhóm dân tộc khác nhau trên thực tế. Tuy nhiên, để làm rõ hơn sự khác biệt giữa các nhóm với nhau ta cần phải thực hiện phép phân tích hậu định. Trong bài phân tích này ta sử dụng phương pháp **phân tích Tukey's HSD**.\n",
    "### 4.1. Phương pháp phân tích Tukey's HSD\n",
    "Gọi $\\overline{X_i}$ và $\\overline{X_j}$ là giá trị trung bình của nhóm $i$ và $j$. \n",
    "\n",
    "Khi đó ta có:\n",
    "$$Q = \\frac{\\overline{X_i}-\\overline{X_j}}{\\sqrt{\\frac{MeanSq}{\\overline{n}}}}$$\n"
   ]
  },
  {
   "cell_type": "markdown",
   "id": "3e24c3ee-086e-42fc-a685-ec5f92e39e8f",
   "metadata": {},
   "source": [
    "#### Ngưỡng HSD:\n",
    "$$Q_{k,n-k,\\alpha} = \\frac{(max\\overline{X_i}-min\\overline{X_i})\\sqrt{\\overline{N}}}{\\sqrt{{WMS}}}$$\n",
    "\n",
    "Trong đó giá trị $\\overline{N}$ trung bình giữa hai nhóm tính bằng công thức:\n",
    "$$\\overline{N} = \\frac{2n_i.n_j}{n_i+n_j}$$\n",
    "\n",
    "Khi đó, điều kiện để sự khác biệt giữa hai nhóm $X_i$ và $X_j$ có ý nghĩa là: \n",
    "$$Q > Q_{k,n-k,\\alpha}$$"
   ]
  },
  {
   "cell_type": "code",
   "execution_count": 43,
   "id": "beb36a39-1101-45a5-bff5-db5ac54f2f84",
   "metadata": {},
   "outputs": [],
   "source": [
    "tukey = TukeyHSD(av)"
   ]
  },
  {
   "cell_type": "code",
   "execution_count": 46,
   "id": "fcbc9d89-cf56-41c2-91e5-8318bcb9db0b",
   "metadata": {},
   "outputs": [
    {
     "data": {
      "image/png": "[encoded data removed]",
      "text/plain": [
       "Plot with title \"95% family-wise confidence level\n",
       "\""
      ]
     },
     "metadata": {
      "image/png": {
       "height": 420,
       "width": 420
      }
     },
     "output_type": "display_data"
    }
   ],
   "source": [
    "plot(tukey)"
   ]
  },
  {
   "cell_type": "markdown",
   "id": "3b8220dd-3041-4a43-92fc-b472ed505a58",
   "metadata": {},
   "source": [
    "Qua biểu đồ thể hiện khoảng tin cậy 95% giữa các nhóm với nhau ở trên ta thấy gồm có 10 phép so sánh giữa từng cặp nhóm với nhau theo thứ tự như sau: *Groups A-B, Groups A-C, Groups A-D, Groups A-E, Groups B-C, Groups B-D, Groups B-E, Groups C-D, Groups C-E* và *Groups D-E*.\n",
    "Kết quả thể hiện gồm có 4 cặp nhóm không có sự khác biệt với nhau:\n",
    "- Group A và Group B\n",
    "- Group A và Group C\n",
    "- Group B và Group C\n",
    "- Group C và Group D\n",
    "\n",
    "## 5. Kết luận\n",
    "Vậy qua kết quả phân tích tập dữ liệu như trên cho thấy rằng có sự khác biệt về khả năng tư duy logic tính toán giữ các nhóm dân tộc khác nhau. Tuy nhiên, không phải tất cả các nhóm dân tộc đều có khả năng tư duy logic khác nhau, vì có thể sẽ có các nhóm dân tộc có tư duy logic tương đương nhau (như nhóm A, nhóm B và nhóm C ở Bồ Đào Nha)."
   ]
  },
  {
   "cell_type": "code",
   "execution_count": null,
   "id": "d0edb900-f9f7-425a-8f11-efe4a59b4076",
   "metadata": {},
   "outputs": [],
   "source": []
  }
 ],
 "metadata": {
  "kernelspec": {
   "display_name": "R 4.0.4",
   "language": "R",
   "name": "ir3.3"
  },
  "language_info": {
   "codemirror_mode": "r",
   "file_extension": ".r",
   "mimetype": "text/x-r-source",
   "name": "R",
   "pygments_lexer": "r",
   "version": "4.0.4"
  }
 },
 "nbformat": 4,
 "nbformat_minor": 5
}
